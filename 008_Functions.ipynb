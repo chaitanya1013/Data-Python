{
 "cells": [
  {
   "cell_type": "code",
   "execution_count": 14,
   "id": "0212892a",
   "metadata": {},
   "outputs": [],
   "source": [
    "def function1():\n",
    "  print(\"Hello and Welcome Everyone\")"
   ]
  },
  {
   "cell_type": "code",
   "execution_count": 15,
   "id": "8104a5a7",
   "metadata": {},
   "outputs": [
    {
     "name": "stdout",
     "output_type": "stream",
     "text": [
      "Hello and Welcome Everyone\n"
     ]
    }
   ],
   "source": [
    "function1()"
   ]
  },
  {
   "cell_type": "code",
   "execution_count": 16,
   "id": "5f098afa",
   "metadata": {},
   "outputs": [
    {
     "name": "stdout",
     "output_type": "stream",
     "text": [
      "Hello and Welcome Everyone From Chaitanya\n"
     ]
    }
   ],
   "source": [
    "def function2(plus):\n",
    "  print(\"Hello and Welcome Everyone\",plus)\n",
    "\n",
    "function2('From Chaitanya')"
   ]
  },
  {
   "cell_type": "code",
   "execution_count": 18,
   "id": "44a6cf0d",
   "metadata": {},
   "outputs": [
    {
     "name": "stdout",
     "output_type": "stream",
     "text": [
      "Hello and Welcome FriendsFrom Chaitanya Purkar\n"
     ]
    }
   ],
   "source": [
    "def function2(plus):\n",
    "  print(\"Hello and Welcome Friends\" + plus)\n",
    "\n",
    "function2('From Chaitanya Purkar')"
   ]
  },
  {
   "cell_type": "code",
   "execution_count": 20,
   "id": "557068ad",
   "metadata": {},
   "outputs": [
    {
     "name": "stdout",
     "output_type": "stream",
     "text": [
      "Chaitanya Purkar\n"
     ]
    }
   ],
   "source": [
    "def name(fname,lname):\n",
    "  print(fname + \" \" + lname)\n",
    "\n",
    "name('Chaitanya','Purkar')"
   ]
  },
  {
   "cell_type": "code",
   "execution_count": 21,
   "id": "1cbf7479",
   "metadata": {},
   "outputs": [
    {
     "name": "stdout",
     "output_type": "stream",
     "text": [
      "Archit purkar\n"
     ]
    }
   ],
   "source": [
    "name('Archit','purkar')"
   ]
  },
  {
   "cell_type": "code",
   "execution_count": 22,
   "id": "c677966f",
   "metadata": {},
   "outputs": [
    {
     "name": "stdout",
     "output_type": "stream",
     "text": [
      "Hello and Welcome Friends From Chaitanya Shamkant Purkar\n"
     ]
    }
   ],
   "source": [
    "def function2(*plus):\n",
    "  print(\"Hello and Welcome Friends\", plus[0],plus[1],plus[2] )\n",
    "\n",
    "function2('From','Chaitanya','Shamkant Purkar')"
   ]
  },
  {
   "cell_type": "code",
   "execution_count": 23,
   "id": "826a7f28",
   "metadata": {},
   "outputs": [
    {
     "name": "stdout",
     "output_type": "stream",
     "text": [
      "Chaitanya Purkar\n"
     ]
    }
   ],
   "source": [
    "def name1(lname,fname):\n",
    "  print(fname + \" \" + lname)\n",
    "\n",
    "name1(fname = 'Chaitanya',lname = 'Purkar')"
   ]
  },
  {
   "cell_type": "code",
   "execution_count": 24,
   "id": "b12f9267",
   "metadata": {},
   "outputs": [
    {
     "name": "stdout",
     "output_type": "stream",
     "text": [
      "Chaitanya Purkar\n"
     ]
    }
   ],
   "source": [
    "def name2(**student):\n",
    "  print(student['fname'] + \" \" + student['lname'])\n",
    "\n",
    "name2(fname = 'Chaitanya',lname = 'Purkar')"
   ]
  },
  {
   "cell_type": "code",
   "execution_count": 26,
   "id": "043a214c",
   "metadata": {},
   "outputs": [
    {
     "name": "stdout",
     "output_type": "stream",
     "text": [
      "Chaitanya Shamkant Purkar\n"
     ]
    }
   ],
   "source": [
    "def name3(**students):\n",
    "  print(students['s1'],students['s2'],students['s3'])\n",
    "\n",
    "name3(s1 = 'Chaitanya',s2 = 'Shamkant',s3 = 'Purkar')"
   ]
  },
  {
   "cell_type": "code",
   "execution_count": 27,
   "id": "9520774e",
   "metadata": {},
   "outputs": [
    {
     "name": "stdout",
     "output_type": "stream",
     "text": [
      "Hello and Welcome Everyone From Chaitanya Purkar\n",
      "Hello and Welcome Everyone From Chaitanya\n"
     ]
    }
   ],
   "source": [
    "def function2(plus = 'From Chaitanya'):\n",
    "  print(\"Hello and Welcome Everyone\",plus)\n",
    "\n",
    "function2('From Chaitanya Purkar')\n",
    "function2()"
   ]
  },
  {
   "cell_type": "code",
   "execution_count": 28,
   "id": "51d60ed3",
   "metadata": {},
   "outputs": [
    {
     "data": {
      "text/plain": [
       "3"
      ]
     },
     "execution_count": 28,
     "metadata": {},
     "output_type": "execute_result"
    }
   ],
   "source": [
    "def sum_fun(a,b):\n",
    "  c = a+b\n",
    "  return c\n",
    "\n",
    "sum_fun(1,2)"
   ]
  },
  {
   "cell_type": "code",
   "execution_count": 29,
   "id": "c30c268f",
   "metadata": {
    "scrolled": true
   },
   "outputs": [
    {
     "data": {
      "text/plain": [
       "5"
      ]
     },
     "execution_count": 29,
     "metadata": {},
     "output_type": "execute_result"
    }
   ],
   "source": [
    "sum_fun(2,3)"
   ]
  },
  {
   "cell_type": "code",
   "execution_count": null,
   "id": "e886a313",
   "metadata": {},
   "outputs": [],
   "source": []
  }
 ],
 "metadata": {
  "kernelspec": {
   "display_name": "Python 3 (ipykernel)",
   "language": "python",
   "name": "python3"
  },
  "language_info": {
   "codemirror_mode": {
    "name": "ipython",
    "version": 3
   },
   "file_extension": ".py",
   "mimetype": "text/x-python",
   "name": "python",
   "nbconvert_exporter": "python",
   "pygments_lexer": "ipython3",
   "version": "3.9.2"
  }
 },
 "nbformat": 4,
 "nbformat_minor": 5
}
