{
 "cells": [
  {
   "cell_type": "code",
   "execution_count": 1,
   "id": "444aa75d",
   "metadata": {},
   "outputs": [],
   "source": [
    "x = 10\n",
    "y = 20\n",
    "z = 10"
   ]
  },
  {
   "cell_type": "code",
   "execution_count": 2,
   "id": "ff259b94",
   "metadata": {},
   "outputs": [
    {
     "name": "stdout",
     "output_type": "stream",
     "text": [
      "not equal\n"
     ]
    }
   ],
   "source": [
    "if x != y :\n",
    " print('not equal')"
   ]
  },
  {
   "cell_type": "code",
   "execution_count": 3,
   "id": "1560fb81",
   "metadata": {},
   "outputs": [
    {
     "name": "stdout",
     "output_type": "stream",
     "text": [
      "equal\n"
     ]
    }
   ],
   "source": [
    "if x == z :\n",
    " print('equal')"
   ]
  },
  {
   "cell_type": "code",
   "execution_count": 4,
   "id": "9b9343b9",
   "metadata": {},
   "outputs": [
    {
     "name": "stdout",
     "output_type": "stream",
     "text": [
      "x is less then y\n"
     ]
    }
   ],
   "source": [
    "if x < y :\n",
    " print('x is less then y')"
   ]
  },
  {
   "cell_type": "code",
   "execution_count": 5,
   "id": "815d0380",
   "metadata": {},
   "outputs": [
    {
     "name": "stdout",
     "output_type": "stream",
     "text": [
      "y is greater then x\n"
     ]
    }
   ],
   "source": [
    "if y > x:\n",
    " print('y is greater then x') "
   ]
  },
  {
   "cell_type": "code",
   "execution_count": 6,
   "id": "d087eaa8",
   "metadata": {},
   "outputs": [
    {
     "name": "stdout",
     "output_type": "stream",
     "text": [
      "2 conditions\n"
     ]
    }
   ],
   "source": [
    "if x <= y and x<=z :\n",
    " print('2 conditions')"
   ]
  },
  {
   "cell_type": "code",
   "execution_count": 7,
   "id": "f41f56d3",
   "metadata": {},
   "outputs": [
    {
     "name": "stdout",
     "output_type": "stream",
     "text": [
      "2 conditions\n"
     ]
    }
   ],
   "source": [
    "if y >= x and x<=z :\n",
    " print('2 conditions')"
   ]
  },
  {
   "cell_type": "code",
   "execution_count": 8,
   "id": "3952dd31",
   "metadata": {},
   "outputs": [
    {
     "name": "stdout",
     "output_type": "stream",
     "text": [
      "2 conditions with or\n"
     ]
    }
   ],
   "source": [
    "if y <= x or x==z :\n",
    " print('2 conditions with or')"
   ]
  },
  {
   "cell_type": "code",
   "execution_count": 9,
   "id": "e7e9ab51",
   "metadata": {},
   "outputs": [
    {
     "name": "stdout",
     "output_type": "stream",
     "text": [
      "not part\n"
     ]
    }
   ],
   "source": [
    "if not x == y :\n",
    " print('not part')"
   ]
  },
  {
   "cell_type": "code",
   "execution_count": 10,
   "id": "1b0ccc3b",
   "metadata": {},
   "outputs": [
    {
     "name": "stdout",
     "output_type": "stream",
     "text": [
      "equal\n"
     ]
    }
   ],
   "source": [
    "if x == z :\n",
    " print('equal')"
   ]
  },
  {
   "cell_type": "code",
   "execution_count": 11,
   "id": "9202a11c",
   "metadata": {},
   "outputs": [
    {
     "name": "stdout",
     "output_type": "stream",
     "text": [
      "equal\n"
     ]
    }
   ],
   "source": [
    "if x == z : print('equal')"
   ]
  },
  {
   "cell_type": "code",
   "execution_count": 12,
   "id": "37e8838d",
   "metadata": {},
   "outputs": [
    {
     "name": "stdout",
     "output_type": "stream",
     "text": [
      "equal\n"
     ]
    }
   ],
   "source": [
    "if x == z :\n",
    " print('equal')\n",
    "elif x!=y :\n",
    " print('not equal')"
   ]
  },
  {
   "cell_type": "code",
   "execution_count": 13,
   "id": "d851bf83",
   "metadata": {},
   "outputs": [],
   "source": [
    "if x != z :\n",
    " print('equal')\n",
    "elif x==y :\n",
    " print('not equal')"
   ]
  },
  {
   "cell_type": "code",
   "execution_count": 14,
   "id": "1eeb9a58",
   "metadata": {},
   "outputs": [
    {
     "name": "stdout",
     "output_type": "stream",
     "text": [
      "not equal\n"
     ]
    }
   ],
   "source": [
    "if x != z :\n",
    " print('equal')\n",
    "elif x!=y :\n",
    " print('not equal')"
   ]
  },
  {
   "cell_type": "code",
   "execution_count": 15,
   "id": "a38c10ec",
   "metadata": {},
   "outputs": [
    {
     "name": "stdout",
     "output_type": "stream",
     "text": [
      "else part\n"
     ]
    }
   ],
   "source": [
    "if x != z :\n",
    " print('equal')\n",
    "elif x==y :\n",
    " print('not equal')\n",
    "else :\n",
    " print('else part')"
   ]
  },
  {
   "cell_type": "code",
   "execution_count": 16,
   "id": "93342e28",
   "metadata": {},
   "outputs": [
    {
     "name": "stdout",
     "output_type": "stream",
     "text": [
      "else part\n"
     ]
    }
   ],
   "source": [
    "if x != z :\n",
    " print('equal')\n",
    "else :\n",
    " print('else part')"
   ]
  },
  {
   "cell_type": "code",
   "execution_count": 17,
   "id": "18bf6898",
   "metadata": {},
   "outputs": [
    {
     "name": "stdout",
     "output_type": "stream",
     "text": [
      "if part\n"
     ]
    }
   ],
   "source": [
    "print(\"if part\") if y > x else print(\"else part\")"
   ]
  },
  {
   "cell_type": "code",
   "execution_count": 18,
   "id": "0a4c638e",
   "metadata": {},
   "outputs": [
    {
     "name": "stdout",
     "output_type": "stream",
     "text": [
      "else part\n"
     ]
    }
   ],
   "source": [
    "print(\"if part\") if x > y else print(\"else part\")"
   ]
  },
  {
   "cell_type": "code",
   "execution_count": 19,
   "id": "b4f76b6c",
   "metadata": {},
   "outputs": [
    {
     "name": "stdout",
     "output_type": "stream",
     "text": [
      "equal\n",
      "else part\n"
     ]
    }
   ],
   "source": [
    "if x != y :\n",
    " print('equal')\n",
    " if x < y :\n",
    "  print('else part')"
   ]
  },
  {
   "cell_type": "code",
   "execution_count": null,
   "id": "c32ca17f",
   "metadata": {},
   "outputs": [],
   "source": []
  },
  {
   "cell_type": "code",
   "execution_count": null,
   "id": "dafbb2bf-11ce-4198-aa44-8370cdce8a1a",
   "metadata": {},
   "outputs": [],
   "source": []
  },
  {
   "cell_type": "code",
   "execution_count": null,
   "id": "d8fbffc6-7273-4309-8c4a-68af59d502fe",
   "metadata": {},
   "outputs": [],
   "source": []
  }
 ],
 "metadata": {
  "kernelspec": {
   "display_name": "Python 3 (ipykernel)",
   "language": "python",
   "name": "python3"
  },
  "language_info": {
   "codemirror_mode": {
    "name": "ipython",
    "version": 3
   },
   "file_extension": ".py",
   "mimetype": "text/x-python",
   "name": "python",
   "nbconvert_exporter": "python",
   "pygments_lexer": "ipython3",
   "version": "3.9.2"
  }
 },
 "nbformat": 4,
 "nbformat_minor": 5
}
