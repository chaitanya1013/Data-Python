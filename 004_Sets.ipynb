{
 "cells": [
  {
   "cell_type": "code",
   "execution_count": 5,
   "id": "680d6326",
   "metadata": {},
   "outputs": [],
   "source": [
    "set1 = {1,2,3,4,5}"
   ]
  },
  {
   "cell_type": "code",
   "execution_count": 6,
   "id": "d00424a2",
   "metadata": {},
   "outputs": [],
   "source": [
    "set2 = {'Chaitanya',\"Purkar\",'Pune','Amalner'}"
   ]
  },
  {
   "cell_type": "code",
   "execution_count": 7,
   "id": "0f4b3d2c",
   "metadata": {},
   "outputs": [],
   "source": [
    "set3 = {True, False,False, True}"
   ]
  },
  {
   "cell_type": "code",
   "execution_count": 8,
   "id": "d241c73e",
   "metadata": {},
   "outputs": [
    {
     "name": "stdout",
     "output_type": "stream",
     "text": [
      "<class 'set'>\n",
      "<class 'set'>\n",
      "<class 'set'>\n"
     ]
    }
   ],
   "source": [
    "print(type(set1))\n",
    "print(type(set2))\n",
    "print(type(set3))"
   ]
  },
  {
   "cell_type": "code",
   "execution_count": 32,
   "id": "4794ec0c",
   "metadata": {},
   "outputs": [],
   "source": [
    "set4 = set((5, True, 'yes', \"no\")) "
   ]
  },
  {
   "cell_type": "code",
   "execution_count": 28,
   "id": "33686393",
   "metadata": {},
   "outputs": [
    {
     "name": "stdout",
     "output_type": "stream",
     "text": [
      "<class 'set'>\n"
     ]
    }
   ],
   "source": [
    "print(type(set4))"
   ]
  },
  {
   "cell_type": "code",
   "execution_count": 35,
   "id": "ab32aa0a",
   "metadata": {},
   "outputs": [
    {
     "data": {
      "text/plain": [
       "{5, True, 'no', 'yes'}"
      ]
     },
     "execution_count": 35,
     "metadata": {},
     "output_type": "execute_result"
    }
   ],
   "source": [
    "set4"
   ]
  },
  {
   "cell_type": "code",
   "execution_count": 36,
   "id": "e4d0203a",
   "metadata": {},
   "outputs": [
    {
     "name": "stdout",
     "output_type": "stream",
     "text": [
      "Pune\n",
      "Chaitanya\n",
      "Purkar\n",
      "Amalner\n"
     ]
    }
   ],
   "source": [
    "for i in set2:\n",
    " print(i)"
   ]
  },
  {
   "cell_type": "code",
   "execution_count": 37,
   "id": "172c9c65",
   "metadata": {},
   "outputs": [
    {
     "ename": "TypeError",
     "evalue": "'set' object is not subscriptable",
     "output_type": "error",
     "traceback": [
      "\u001b[1;31m---------------------------------------------------------------------------\u001b[0m",
      "\u001b[1;31mTypeError\u001b[0m                                 Traceback (most recent call last)",
      "Cell \u001b[1;32mIn[37], line 1\u001b[0m\n\u001b[1;32m----> 1\u001b[0m \u001b[43mset4\u001b[49m\u001b[43m[\u001b[49m\u001b[38;5;241;43m0\u001b[39;49m\u001b[43m]\u001b[49m \u001b[38;5;66;03m# we can't accessing elements indexing in set\u001b[39;00m\n",
      "\u001b[1;31mTypeError\u001b[0m: 'set' object is not subscriptable"
     ]
    }
   ],
   "source": [
    "set4[0] # we can't accessing elements indexing in set"
   ]
  },
  {
   "cell_type": "code",
   "execution_count": 38,
   "id": "5f8c8589",
   "metadata": {},
   "outputs": [
    {
     "data": {
      "text/plain": [
       "{1, 2, 3, 4, 5}"
      ]
     },
     "execution_count": 38,
     "metadata": {},
     "output_type": "execute_result"
    }
   ],
   "source": [
    "sett = {1,1,2,2,3,3,4,4,5,5}\n",
    "sett"
   ]
  },
  {
   "cell_type": "code",
   "execution_count": 39,
   "id": "fe8a8a79",
   "metadata": {},
   "outputs": [
    {
     "name": "stdout",
     "output_type": "stream",
     "text": [
      "True\n"
     ]
    }
   ],
   "source": [
    "print('yes' in set4)"
   ]
  },
  {
   "cell_type": "code",
   "execution_count": 40,
   "id": "87d0f822",
   "metadata": {},
   "outputs": [
    {
     "name": "stdout",
     "output_type": "stream",
     "text": [
      "True\n"
     ]
    }
   ],
   "source": [
    "print(5 in set4)"
   ]
  },
  {
   "cell_type": "code",
   "execution_count": 41,
   "id": "15309f4f",
   "metadata": {},
   "outputs": [],
   "source": [
    "set4.add(False)"
   ]
  },
  {
   "cell_type": "code",
   "execution_count": 42,
   "id": "dd5277ac",
   "metadata": {},
   "outputs": [
    {
     "data": {
      "text/plain": [
       "{5, False, True, 'no', 'yes'}"
      ]
     },
     "execution_count": 42,
     "metadata": {},
     "output_type": "execute_result"
    }
   ],
   "source": [
    "set4"
   ]
  },
  {
   "cell_type": "code",
   "execution_count": 43,
   "id": "3020f50c",
   "metadata": {},
   "outputs": [],
   "source": [
    "set4.add(50)"
   ]
  },
  {
   "cell_type": "code",
   "execution_count": 44,
   "id": "8fdcb2a2",
   "metadata": {},
   "outputs": [
    {
     "data": {
      "text/plain": [
       "{5, 50, False, True, 'no', 'yes'}"
      ]
     },
     "execution_count": 44,
     "metadata": {},
     "output_type": "execute_result"
    }
   ],
   "source": [
    "set4"
   ]
  },
  {
   "cell_type": "code",
   "execution_count": 45,
   "id": "2f475517",
   "metadata": {},
   "outputs": [],
   "source": [
    "set4.add('may be')"
   ]
  },
  {
   "cell_type": "code",
   "execution_count": 46,
   "id": "136cb936",
   "metadata": {},
   "outputs": [
    {
     "data": {
      "text/plain": [
       "{5, 50, False, True, 'may be', 'no', 'yes'}"
      ]
     },
     "execution_count": 46,
     "metadata": {},
     "output_type": "execute_result"
    }
   ],
   "source": [
    "set4"
   ]
  },
  {
   "cell_type": "code",
   "execution_count": 47,
   "id": "5852eb8b",
   "metadata": {},
   "outputs": [],
   "source": [
    "set4.add('xyz')"
   ]
  },
  {
   "cell_type": "code",
   "execution_count": 48,
   "id": "c987c995",
   "metadata": {},
   "outputs": [
    {
     "data": {
      "text/plain": [
       "{5, 50, False, True, 'may be', 'no', 'xyz', 'yes'}"
      ]
     },
     "execution_count": 48,
     "metadata": {},
     "output_type": "execute_result"
    }
   ],
   "source": [
    "set4"
   ]
  },
  {
   "cell_type": "code",
   "execution_count": 49,
   "id": "6f340ce4",
   "metadata": {},
   "outputs": [
    {
     "data": {
      "text/plain": [
       "{5, False, True, 'may be', 'no', 'xyz', 'yes'}"
      ]
     },
     "execution_count": 49,
     "metadata": {},
     "output_type": "execute_result"
    }
   ],
   "source": [
    "set4.remove(50)\n",
    "set4"
   ]
  },
  {
   "cell_type": "code",
   "execution_count": 51,
   "id": "0e86b6eb",
   "metadata": {},
   "outputs": [
    {
     "ename": "KeyError",
     "evalue": "50",
     "output_type": "error",
     "traceback": [
      "\u001b[1;31m---------------------------------------------------------------------------\u001b[0m",
      "\u001b[1;31mKeyError\u001b[0m                                  Traceback (most recent call last)",
      "Cell \u001b[1;32mIn[51], line 1\u001b[0m\n\u001b[1;32m----> 1\u001b[0m \u001b[43mset4\u001b[49m\u001b[38;5;241;43m.\u001b[39;49m\u001b[43mremove\u001b[49m\u001b[43m(\u001b[49m\u001b[38;5;241;43m50\u001b[39;49m\u001b[43m)\u001b[49m \u001b[38;5;66;03m# already removed element \u001b[39;00m\n",
      "\u001b[1;31mKeyError\u001b[0m: 50"
     ]
    }
   ],
   "source": [
    "set4.remove(50) # already removed element "
   ]
  },
  {
   "cell_type": "code",
   "execution_count": 52,
   "id": "78bc1711",
   "metadata": {},
   "outputs": [],
   "source": [
    "set4.discard(50)"
   ]
  },
  {
   "cell_type": "code",
   "execution_count": 53,
   "id": "aeae54df",
   "metadata": {},
   "outputs": [
    {
     "data": {
      "text/plain": [
       "{5, False, True, 'may be', 'no', 'xyz', 'yes'}"
      ]
     },
     "execution_count": 53,
     "metadata": {},
     "output_type": "execute_result"
    }
   ],
   "source": [
    "set4"
   ]
  },
  {
   "cell_type": "code",
   "execution_count": 54,
   "id": "ea6b76c0",
   "metadata": {},
   "outputs": [
    {
     "data": {
      "text/plain": [
       "False"
      ]
     },
     "execution_count": 54,
     "metadata": {},
     "output_type": "execute_result"
    }
   ],
   "source": [
    "a = set4.pop()\n",
    "a"
   ]
  },
  {
   "cell_type": "code",
   "execution_count": 55,
   "id": "c0e8b524",
   "metadata": {},
   "outputs": [
    {
     "data": {
      "text/plain": [
       "{5, True, 'may be', 'no', 'xyz', 'yes'}"
      ]
     },
     "execution_count": 55,
     "metadata": {},
     "output_type": "execute_result"
    }
   ],
   "source": [
    "set4"
   ]
  },
  {
   "cell_type": "code",
   "execution_count": 56,
   "id": "b4856197",
   "metadata": {},
   "outputs": [
    {
     "data": {
      "text/plain": [
       "{2, 3, 4, 5, True, 'may be', 'no', 'xyz', 'yes'}"
      ]
     },
     "execution_count": 56,
     "metadata": {},
     "output_type": "execute_result"
    }
   ],
   "source": [
    "set5 = set4.union(set1)\n",
    "set5"
   ]
  },
  {
   "cell_type": "code",
   "execution_count": 57,
   "id": "4f0f7759",
   "metadata": {},
   "outputs": [
    {
     "data": {
      "text/plain": [
       "{0}"
      ]
     },
     "execution_count": 57,
     "metadata": {},
     "output_type": "execute_result"
    }
   ],
   "source": [
    "settt = {0,False}\n",
    "settt"
   ]
  },
  {
   "cell_type": "code",
   "execution_count": 58,
   "id": "d0df50bc",
   "metadata": {},
   "outputs": [
    {
     "data": {
      "text/plain": [
       "{True}"
      ]
     },
     "execution_count": 58,
     "metadata": {},
     "output_type": "execute_result"
    }
   ],
   "source": [
    "set10 = {True}\n",
    "set11 = {1}\n",
    "set12 = set10.union(set11)\n",
    "set12"
   ]
  },
  {
   "cell_type": "code",
   "execution_count": 59,
   "id": "471cd94c",
   "metadata": {},
   "outputs": [
    {
     "data": {
      "text/plain": [
       "{2, 3, 4, 5, True, 'may be', 'no', 'xyz', 'yes'}"
      ]
     },
     "execution_count": 59,
     "metadata": {},
     "output_type": "execute_result"
    }
   ],
   "source": [
    "set5.add(1)\n",
    "set5"
   ]
  },
  {
   "cell_type": "code",
   "execution_count": 60,
   "id": "7e44570e",
   "metadata": {},
   "outputs": [],
   "source": [
    "set4.update(set2)"
   ]
  },
  {
   "cell_type": "code",
   "execution_count": 61,
   "id": "561e04e5",
   "metadata": {},
   "outputs": [
    {
     "data": {
      "text/plain": [
       "{5,\n",
       " 'Amalner',\n",
       " 'Chaitanya',\n",
       " 'Pune',\n",
       " 'Purkar',\n",
       " True,\n",
       " 'may be',\n",
       " 'no',\n",
       " 'xyz',\n",
       " 'yes'}"
      ]
     },
     "execution_count": 61,
     "metadata": {},
     "output_type": "execute_result"
    }
   ],
   "source": [
    "set4"
   ]
  },
  {
   "cell_type": "code",
   "execution_count": 62,
   "id": "22e11865",
   "metadata": {},
   "outputs": [
    {
     "data": {
      "text/plain": [
       "{5, True, 'may be', 'no', 'xyz', 'yes'}"
      ]
     },
     "execution_count": 62,
     "metadata": {},
     "output_type": "execute_result"
    }
   ],
   "source": [
    "set6 = set4.difference(set2)\n",
    "set6"
   ]
  },
  {
   "cell_type": "code",
   "execution_count": 63,
   "id": "0bccd0d4",
   "metadata": {},
   "outputs": [
    {
     "data": {
      "text/plain": [
       "{'Amalner', 'Chaitanya', 'Pune', 'Purkar'}"
      ]
     },
     "execution_count": 63,
     "metadata": {},
     "output_type": "execute_result"
    }
   ],
   "source": [
    "set7 = set4.intersection(set2)\n",
    "set7"
   ]
  },
  {
   "cell_type": "code",
   "execution_count": 64,
   "id": "05165c5a",
   "metadata": {},
   "outputs": [
    {
     "data": {
      "text/plain": [
       "{'Amalner', 'Chaitanya', 'Pune', 'Purkar'}"
      ]
     },
     "execution_count": 64,
     "metadata": {},
     "output_type": "execute_result"
    }
   ],
   "source": [
    "set8 = set7.copy()\n",
    "set8"
   ]
  },
  {
   "cell_type": "code",
   "execution_count": 65,
   "id": "6d7b00ca",
   "metadata": {},
   "outputs": [
    {
     "data": {
      "text/plain": [
       "set()"
      ]
     },
     "execution_count": 65,
     "metadata": {},
     "output_type": "execute_result"
    }
   ],
   "source": [
    "set8.clear()\n",
    "set8"
   ]
  },
  {
   "cell_type": "code",
   "execution_count": 66,
   "id": "806bc693",
   "metadata": {},
   "outputs": [
    {
     "data": {
      "text/plain": [
       "{1}"
      ]
     },
     "execution_count": 66,
     "metadata": {},
     "output_type": "execute_result"
    }
   ],
   "source": [
    "set8.add(1)\n",
    "set8"
   ]
  },
  {
   "cell_type": "code",
   "execution_count": 67,
   "id": "68c958d6",
   "metadata": {},
   "outputs": [],
   "source": [
    "del set8"
   ]
  },
  {
   "cell_type": "code",
   "execution_count": 68,
   "id": "3f6d082f",
   "metadata": {},
   "outputs": [
    {
     "ename": "NameError",
     "evalue": "name 'set8' is not defined",
     "output_type": "error",
     "traceback": [
      "\u001b[1;31m---------------------------------------------------------------------------\u001b[0m",
      "\u001b[1;31mNameError\u001b[0m                                 Traceback (most recent call last)",
      "Cell \u001b[1;32mIn[68], line 1\u001b[0m\n\u001b[1;32m----> 1\u001b[0m \u001b[43mset8\u001b[49m\n",
      "\u001b[1;31mNameError\u001b[0m: name 'set8' is not defined"
     ]
    }
   ],
   "source": [
    "set8 # already deleted set8"
   ]
  },
  {
   "cell_type": "code",
   "execution_count": null,
   "id": "20794993",
   "metadata": {},
   "outputs": [],
   "source": []
  }
 ],
 "metadata": {
  "kernelspec": {
   "display_name": "Python 3 (ipykernel)",
   "language": "python",
   "name": "python3"
  },
  "language_info": {
   "codemirror_mode": {
    "name": "ipython",
    "version": 3
   },
   "file_extension": ".py",
   "mimetype": "text/x-python",
   "name": "python",
   "nbconvert_exporter": "python",
   "pygments_lexer": "ipython3",
   "version": "3.9.2"
  }
 },
 "nbformat": 4,
 "nbformat_minor": 5
}
