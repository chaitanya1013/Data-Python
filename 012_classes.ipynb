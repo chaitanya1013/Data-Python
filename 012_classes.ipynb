{
 "cells": [
  {
   "cell_type": "code",
   "execution_count": 3,
   "id": "c9c95ebd",
   "metadata": {},
   "outputs": [
    {
     "name": "stdout",
     "output_type": "stream",
     "text": [
      "<__main__.class1 object at 0x0000023B6AE2DD90>\n",
      "Chaitanya\n",
      "15\n"
     ]
    }
   ],
   "source": [
    "class class1:\n",
    "    v1 = \"Chaitanya\"\n",
    "    v2 = 15\n",
    "\n",
    "obj1 = class1()\n",
    "print(obj1)\n",
    "print(obj1.v1)\n",
    "print(obj1.v2)"
   ]
  },
  {
   "cell_type": "code",
   "execution_count": 4,
   "id": "96b741b1",
   "metadata": {},
   "outputs": [
    {
     "name": "stdout",
     "output_type": "stream",
     "text": [
      "Chaitanya\n",
      "Purkar\n"
     ]
    }
   ],
   "source": [
    "obj2 = class1()\n",
    "print(obj2.v1)\n",
    "obj2.v1 = \"Purkar\"\n",
    "print(obj2.v1)"
   ]
  },
  {
   "cell_type": "code",
   "execution_count": 6,
   "id": "a8e4f33e",
   "metadata": {},
   "outputs": [
    {
     "name": "stdout",
     "output_type": "stream",
     "text": [
      "name--> Chaitanya\n",
      "name--> Chaitanya Purkar\n"
     ]
    }
   ],
   "source": [
    "class class2:\n",
    "    name = \"Chaitanya\"\n",
    "    roll_no = 15\n",
    "\n",
    "    def abc(self):\n",
    "        print(\"name-->\",self.name)\n",
    "\n",
    "obj11 = class2()\n",
    "obj11.abc()\n",
    "\n",
    "obj11.name = \"Chaitanya Purkar\"\n",
    "obj11.abc()"
   ]
  },
  {
   "cell_type": "code",
   "execution_count": null,
   "id": "156faf4b",
   "metadata": {},
   "outputs": [],
   "source": []
  }
 ],
 "metadata": {
  "kernelspec": {
   "display_name": "Python 3 (ipykernel)",
   "language": "python",
   "name": "python3"
  },
  "language_info": {
   "codemirror_mode": {
    "name": "ipython",
    "version": 3
   },
   "file_extension": ".py",
   "mimetype": "text/x-python",
   "name": "python",
   "nbconvert_exporter": "python",
   "pygments_lexer": "ipython3",
   "version": "3.9.2"
  }
 },
 "nbformat": 4,
 "nbformat_minor": 5
}
