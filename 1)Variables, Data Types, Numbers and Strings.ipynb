{
 "cells": [
  {
   "cell_type": "markdown",
   "id": "5a3c13df",
   "metadata": {},
   "source": [
    "Variables"
   ]
  },
  {
   "cell_type": "code",
   "execution_count": 17,
   "id": "44554865",
   "metadata": {},
   "outputs": [
    {
     "data": {
      "text/plain": [
       "5"
      ]
     },
     "execution_count": 17,
     "metadata": {},
     "output_type": "execute_result"
    }
   ],
   "source": [
    "a = 5\n",
    "a"
   ]
  },
  {
   "cell_type": "code",
   "execution_count": 18,
   "id": "2a08c85e",
   "metadata": {},
   "outputs": [
    {
     "data": {
      "text/plain": [
       "5"
      ]
     },
     "execution_count": 18,
     "metadata": {},
     "output_type": "execute_result"
    }
   ],
   "source": [
    "b = 'Chaitanya'\n",
    "b\n",
    "a"
   ]
  },
  {
   "cell_type": "code",
   "execution_count": 19,
   "id": "124c12a9",
   "metadata": {},
   "outputs": [
    {
     "data": {
      "text/plain": [
       "'Chaitanya'"
      ]
     },
     "execution_count": 19,
     "metadata": {},
     "output_type": "execute_result"
    }
   ],
   "source": [
    "c = \"Chaitanya\"\n",
    "c"
   ]
  },
  {
   "cell_type": "code",
   "execution_count": 20,
   "id": "a247ef55",
   "metadata": {},
   "outputs": [
    {
     "name": "stdout",
     "output_type": "stream",
     "text": [
      "5\n",
      "Chaitanya\n"
     ]
    }
   ],
   "source": [
    "print(a)\n",
    "print(b)"
   ]
  },
  {
   "cell_type": "code",
   "execution_count": 21,
   "id": "79894260",
   "metadata": {},
   "outputs": [
    {
     "name": "stdout",
     "output_type": "stream",
     "text": [
      "5\n",
      "5\n",
      "5.0\n"
     ]
    }
   ],
   "source": [
    "x = str(5)    \n",
    "y = int(5)    \n",
    "z = float(5)\n",
    "\n",
    "print(x)\n",
    "print(y)\n",
    "print(z)"
   ]
  },
  {
   "cell_type": "code",
   "execution_count": 22,
   "id": "8d63e0bb",
   "metadata": {},
   "outputs": [
    {
     "name": "stdout",
     "output_type": "stream",
     "text": [
      "<class 'str'>\n",
      "<class 'int'>\n",
      "<class 'float'>\n"
     ]
    }
   ],
   "source": [
    "print(type(x))\n",
    "print(type(y))\n",
    "print(type(z))"
   ]
  },
  {
   "cell_type": "code",
   "execution_count": 23,
   "id": "f6d65e41",
   "metadata": {},
   "outputs": [],
   "source": [
    "p = 'Chaitanya'\n",
    "P = 'Purkar'"
   ]
  },
  {
   "cell_type": "code",
   "execution_count": 24,
   "id": "1f4fcd50",
   "metadata": {},
   "outputs": [
    {
     "name": "stdout",
     "output_type": "stream",
     "text": [
      "Chaitanya\n",
      "Purkar\n"
     ]
    }
   ],
   "source": [
    "print(p)\n",
    "print(P)"
   ]
  },
  {
   "cell_type": "code",
   "execution_count": 25,
   "id": "5beacf65",
   "metadata": {},
   "outputs": [
    {
     "name": "stdout",
     "output_type": "stream",
     "text": [
      "Chaitanya Purkar\n"
     ]
    }
   ],
   "source": [
    "print(p + ' ' + P)"
   ]
  },
  {
   "cell_type": "code",
   "execution_count": 26,
   "id": "92068e7e",
   "metadata": {},
   "outputs": [
    {
     "name": "stdout",
     "output_type": "stream",
     "text": [
      "10\n"
     ]
    }
   ],
   "source": [
    "print(a+y)"
   ]
  },
  {
   "cell_type": "code",
   "execution_count": 27,
   "id": "cbbd34ce",
   "metadata": {},
   "outputs": [
    {
     "ename": "TypeError",
     "evalue": "unsupported operand type(s) for +: 'int' and 'str'",
     "output_type": "error",
     "traceback": [
      "\u001b[1;31m---------------------------------------------------------------------------\u001b[0m",
      "\u001b[1;31mTypeError\u001b[0m                                 Traceback (most recent call last)",
      "Cell \u001b[1;32mIn[27], line 1\u001b[0m\n\u001b[1;32m----> 1\u001b[0m \u001b[38;5;28mprint\u001b[39m(\u001b[43ma\u001b[49m\u001b[38;5;241;43m+\u001b[39;49m\u001b[43mb\u001b[49m)\n",
      "\u001b[1;31mTypeError\u001b[0m: unsupported operand type(s) for +: 'int' and 'str'"
     ]
    }
   ],
   "source": [
    "print(a+b)"
   ]
  },
  {
   "cell_type": "code",
   "execution_count": 28,
   "id": "ff61c74b",
   "metadata": {},
   "outputs": [],
   "source": [
    "variable = 5\n",
    "vari_able = 5\n",
    "_variable = 5\n",
    "Variable = 5\n",
    "VARIABLE = 5\n",
    "variable5 = 5"
   ]
  },
  {
   "cell_type": "code",
   "execution_count": 29,
   "id": "c66147d4",
   "metadata": {},
   "outputs": [
    {
     "ename": "SyntaxError",
     "evalue": "invalid syntax (3299328541.py, line 1)",
     "output_type": "error",
     "traceback": [
      "\u001b[1;36m  Cell \u001b[1;32mIn[29], line 1\u001b[1;36m\u001b[0m\n\u001b[1;33m    5variable = 5\u001b[0m\n\u001b[1;37m     ^\u001b[0m\n\u001b[1;31mSyntaxError\u001b[0m\u001b[1;31m:\u001b[0m invalid syntax\n"
     ]
    }
   ],
   "source": [
    "5variable = 5"
   ]
  },
  {
   "cell_type": "code",
   "execution_count": 30,
   "id": "a06a50c2",
   "metadata": {},
   "outputs": [
    {
     "ename": "SyntaxError",
     "evalue": "cannot assign to operator (225172146.py, line 1)",
     "output_type": "error",
     "traceback": [
      "\u001b[1;36m  Cell \u001b[1;32mIn[30], line 1\u001b[1;36m\u001b[0m\n\u001b[1;33m    vari-able = 5\u001b[0m\n\u001b[1;37m    ^\u001b[0m\n\u001b[1;31mSyntaxError\u001b[0m\u001b[1;31m:\u001b[0m cannot assign to operator\n"
     ]
    }
   ],
   "source": [
    "vari-able = 5"
   ]
  },
  {
   "cell_type": "code",
   "execution_count": 31,
   "id": "5adfe82c",
   "metadata": {},
   "outputs": [
    {
     "ename": "SyntaxError",
     "evalue": "invalid syntax (3601564415.py, line 1)",
     "output_type": "error",
     "traceback": [
      "\u001b[1;36m  Cell \u001b[1;32mIn[31], line 1\u001b[1;36m\u001b[0m\n\u001b[1;33m    var$able = 5\u001b[0m\n\u001b[1;37m       ^\u001b[0m\n\u001b[1;31mSyntaxError\u001b[0m\u001b[1;31m:\u001b[0m invalid syntax\n"
     ]
    }
   ],
   "source": [
    "var$able = 5"
   ]
  },
  {
   "cell_type": "code",
   "execution_count": 32,
   "id": "be7e776f",
   "metadata": {},
   "outputs": [
    {
     "ename": "SyntaxError",
     "evalue": "invalid syntax (1683983009.py, line 1)",
     "output_type": "error",
     "traceback": [
      "\u001b[1;36m  Cell \u001b[1;32mIn[32], line 1\u001b[1;36m\u001b[0m\n\u001b[1;33m    vari able =5\u001b[0m\n\u001b[1;37m         ^\u001b[0m\n\u001b[1;31mSyntaxError\u001b[0m\u001b[1;31m:\u001b[0m invalid syntax\n"
     ]
    }
   ],
   "source": [
    "vari able =5"
   ]
  },
  {
   "cell_type": "markdown",
   "id": "737330ef",
   "metadata": {},
   "source": [
    "Datatypes"
   ]
  },
  {
   "cell_type": "code",
   "execution_count": 33,
   "id": "60f7a19b",
   "metadata": {},
   "outputs": [],
   "source": [
    "x1 = 5\n",
    "x2 = 'chaitanya'\n",
    "x3 = 5.0\n",
    "x4 = True\n",
    "x5 = 5j\n",
    "x6 = [1,2,3]\n",
    "x7 = {1,2,3}\n",
    "x8 = (1,2,3)\n",
    "x9 = {'name' : 'chaitanya', 'college' : 'mitwpu pune'}\n",
    "x10 = None"
   ]
  },
  {
   "cell_type": "code",
   "execution_count": 34,
   "id": "8a80d646",
   "metadata": {},
   "outputs": [
    {
     "name": "stdout",
     "output_type": "stream",
     "text": [
      "<class 'int'>\n",
      "<class 'str'>\n",
      "<class 'float'>\n",
      "<class 'bool'>\n",
      "<class 'complex'>\n",
      "<class 'list'>\n",
      "<class 'set'>\n",
      "<class 'tuple'>\n",
      "<class 'dict'>\n",
      "<class 'NoneType'>\n"
     ]
    }
   ],
   "source": [
    "print(type(x1))\n",
    "print(type(x2))\n",
    "print(type(x3))\n",
    "print(type(x4))\n",
    "print(type(x5))\n",
    "print(type(x6))\n",
    "print(type(x7))\n",
    "print(type(x8))\n",
    "print(type(x9))\n",
    "print(type(x10))"
   ]
  },
  {
   "cell_type": "markdown",
   "id": "65f47eb7",
   "metadata": {},
   "source": [
    "Numbers"
   ]
  },
  {
   "cell_type": "code",
   "execution_count": 35,
   "id": "10e987db",
   "metadata": {},
   "outputs": [],
   "source": [
    "num1 = 5\n",
    "num2 = -5\n",
    "num3 = 5555555555555555555555555\n",
    "num4 = 5555555555555555555555555555555555555555555555555555555555555555555555555555555555555555555555555555555555555"
   ]
  },
  {
   "cell_type": "code",
   "execution_count": 36,
   "id": "bb4b5cb9",
   "metadata": {},
   "outputs": [
    {
     "name": "stdout",
     "output_type": "stream",
     "text": [
      "76\n",
      "36\n",
      "28\n"
     ]
    }
   ],
   "source": [
    "import sys\n",
    "print(sys.getsizeof(num4))\n",
    "print(sys.getsizeof(num3))\n",
    "print(sys.getsizeof(num1))"
   ]
  },
  {
   "cell_type": "code",
   "execution_count": 37,
   "id": "3df47b15",
   "metadata": {},
   "outputs": [
    {
     "name": "stdout",
     "output_type": "stream",
     "text": [
      "<class 'int'>\n",
      "<class 'int'>\n",
      "<class 'int'>\n"
     ]
    }
   ],
   "source": [
    "print(type(num1))\n",
    "print(type(num2))\n",
    "print(type(num3))"
   ]
  },
  {
   "cell_type": "code",
   "execution_count": 38,
   "id": "85fc4746",
   "metadata": {},
   "outputs": [],
   "source": [
    "float1 = 5.0\n",
    "float2 = -5.5\n",
    "float3 = 123e4"
   ]
  },
  {
   "cell_type": "code",
   "execution_count": 39,
   "id": "c4ddbf2e",
   "metadata": {},
   "outputs": [
    {
     "name": "stdout",
     "output_type": "stream",
     "text": [
      "<class 'float'>\n",
      "<class 'float'>\n",
      "<class 'float'>\n"
     ]
    }
   ],
   "source": [
    "print(type(float1))\n",
    "print(type(float2))\n",
    "print(type(float3))"
   ]
  },
  {
   "cell_type": "code",
   "execution_count": 40,
   "id": "b773db97",
   "metadata": {},
   "outputs": [],
   "source": [
    "com1 = 0+1j\n",
    "com2 = 5j\n",
    "com3 = 1+2j\n",
    "com4 = -5j"
   ]
  },
  {
   "cell_type": "code",
   "execution_count": 41,
   "id": "fe783856",
   "metadata": {},
   "outputs": [
    {
     "name": "stdout",
     "output_type": "stream",
     "text": [
      "<class 'complex'>\n",
      "<class 'complex'>\n",
      "<class 'complex'>\n",
      "<class 'complex'>\n"
     ]
    }
   ],
   "source": [
    "print(type(com1))\n",
    "print(type(com2))\n",
    "print(type(com3))\n",
    "print(type(com4))"
   ]
  },
  {
   "cell_type": "code",
   "execution_count": 42,
   "id": "b9f9fd18",
   "metadata": {},
   "outputs": [
    {
     "ename": "TypeError",
     "evalue": "can't convert complex to int",
     "output_type": "error",
     "traceback": [
      "\u001b[1;31m---------------------------------------------------------------------------\u001b[0m",
      "\u001b[1;31mTypeError\u001b[0m                                 Traceback (most recent call last)",
      "Cell \u001b[1;32mIn[42], line 2\u001b[0m\n\u001b[0;32m      1\u001b[0m int1 \u001b[38;5;241m=\u001b[39m \u001b[38;5;28mint\u001b[39m(float1)\n\u001b[1;32m----> 2\u001b[0m int2 \u001b[38;5;241m=\u001b[39m \u001b[38;5;28;43mint\u001b[39;49m\u001b[43m(\u001b[49m\u001b[43mcom1\u001b[49m\u001b[43m)\u001b[49m\n",
      "\u001b[1;31mTypeError\u001b[0m: can't convert complex to int"
     ]
    }
   ],
   "source": [
    "int1 = int(float1)\n",
    "int2 = int(com1)"
   ]
  },
  {
   "cell_type": "code",
   "execution_count": 43,
   "id": "68bdb4de",
   "metadata": {},
   "outputs": [],
   "source": [
    "complex1 = complex(num1)"
   ]
  },
  {
   "cell_type": "code",
   "execution_count": 44,
   "id": "c3574ede",
   "metadata": {},
   "outputs": [
    {
     "data": {
      "text/plain": [
       "(5+0j)"
      ]
     },
     "execution_count": 44,
     "metadata": {},
     "output_type": "execute_result"
    }
   ],
   "source": [
    "complex1"
   ]
  },
  {
   "cell_type": "markdown",
   "id": "69c65c8b",
   "metadata": {},
   "source": [
    "Strings"
   ]
  },
  {
   "cell_type": "code",
   "execution_count": 45,
   "id": "edf419f5",
   "metadata": {},
   "outputs": [
    {
     "name": "stdout",
     "output_type": "stream",
     "text": [
      "Hello everyone myself Chaitanya Purkar\n",
      "I am from Pune \n",
      "\n"
     ]
    }
   ],
   "source": [
    "X = '''Hello everyone myself Chaitanya Purkar\n",
    "I am from Pune \n",
    "'''\n",
    "print(X)"
   ]
  },
  {
   "cell_type": "code",
   "execution_count": 46,
   "id": "afe7740d",
   "metadata": {},
   "outputs": [
    {
     "data": {
      "text/plain": [
       "str"
      ]
     },
     "execution_count": 46,
     "metadata": {},
     "output_type": "execute_result"
    }
   ],
   "source": [
    "type(X)"
   ]
  },
  {
   "cell_type": "code",
   "execution_count": 47,
   "id": "df40c8fc",
   "metadata": {},
   "outputs": [
    {
     "name": "stdout",
     "output_type": "stream",
     "text": [
      "Hello everyone myself Chaitanya Purkar\n",
      "I am from Pune\n"
     ]
    }
   ],
   "source": [
    "Y = \"\"\"Hello everyone myself Chaitanya Purkar\n",
    "I am from Pune\"\"\"\n",
    "print(Y)"
   ]
  },
  {
   "cell_type": "code",
   "execution_count": 48,
   "id": "03b28daf",
   "metadata": {},
   "outputs": [
    {
     "name": "stdout",
     "output_type": "stream",
     "text": [
      "c\n",
      "h\n",
      "a\n",
      "i\n",
      "t\n",
      "a\n",
      "n\n",
      "y\n",
      "a\n"
     ]
    }
   ],
   "source": [
    "Z = 'chaitanya'\n",
    "print(Z[0])\n",
    "print(Z[1])\n",
    "print(Z[2])\n",
    "print(Z[3])\n",
    "print(Z[4])\n",
    "print(Z[5])\n",
    "print(Z[6])\n",
    "print(Z[7])\n",
    "print(Z[8])"
   ]
  },
  {
   "cell_type": "code",
   "execution_count": 49,
   "id": "966b842f",
   "metadata": {},
   "outputs": [
    {
     "name": "stdout",
     "output_type": "stream",
     "text": [
      "9\n"
     ]
    }
   ],
   "source": [
    "print(len(Z))"
   ]
  },
  {
   "cell_type": "code",
   "execution_count": 50,
   "id": "527b689c",
   "metadata": {},
   "outputs": [
    {
     "name": "stdout",
     "output_type": "stream",
     "text": [
      "55\n"
     ]
    }
   ],
   "source": [
    "print(len(X))"
   ]
  }
 ],
 "metadata": {
  "kernelspec": {
   "display_name": "Python 3 (ipykernel)",
   "language": "python",
   "name": "python3"
  },
  "language_info": {
   "codemirror_mode": {
    "name": "ipython",
    "version": 3
   },
   "file_extension": ".py",
   "mimetype": "text/x-python",
   "name": "python",
   "nbconvert_exporter": "python",
   "pygments_lexer": "ipython3",
   "version": "3.9.2"
  }
 },
 "nbformat": 4,
 "nbformat_minor": 5
}
